{
 "cells": [
  {
   "cell_type": "markdown",
   "metadata": {},
   "source": [
    "# COVID-19 - Dashboard overview\n",
    "> Or maybe a poster generator for the macabre data junkie, updated daily\n",
    "\n",
    "- comments: true\n",
    "- author: Caglar Cakan\n",
    "- categories: [covid19]\n",
    "- permalink: /covid-dashboard/\n",
    "- image: images/icon_covid_dashboard.png\n",
    "- license: Creative Commons"
   ]
  },
  {
   "cell_type": "code",
   "execution_count": 1,
   "metadata": {},
   "outputs": [
    {
     "name": "stdout",
     "output_type": "stream",
     "text": [
      "This page was last built on 04.05.20 20:06:06\n"
     ]
    }
   ],
   "source": [
    "#hide_input\n",
    "import datetime\n",
    "print(\"This page was last built on\", datetime.datetime.now().strftime(\"%d.%m.%y %H:%M:%S\"))"
   ]
  },
  {
   "cell_type": "markdown",
   "metadata": {},
   "source": [
    "The number of new cases per day is averaged using a 10-day rolling window. If the last reported cases are < 25% of the maximum, the data is shown in green. If the last cases are > 75% of the maximum, the data is shown in red."
   ]
  },
  {
   "cell_type": "code",
   "execution_count": 2,
   "metadata": {},
   "outputs": [],
   "source": [
    "#hide\n",
    "import numpy as np\n",
    "\n",
    "import datetime\n",
    "\n",
    "import matplotlib.pyplot as plt\n",
    "import pandas as pd\n",
    "import seaborn as sns\n",
    "import matplotlib.dates as mdates\n",
    "\n",
    "import requests\n",
    "import io\n",
    "\n",
    "from countryinfo import CountryInfo\n",
    "\n",
    "sns.set_context('talk')\n",
    "plt.style.use('seaborn-white')"
   ]
  },
  {
   "cell_type": "code",
   "execution_count": 3,
   "metadata": {},
   "outputs": [],
   "source": [
    "#hide\n",
    "import matplotlib\n",
    "matplotlib.rc_file('mplstyles/dark.mplstyle')"
   ]
  },
  {
   "cell_type": "code",
   "execution_count": 14,
   "metadata": {},
   "outputs": [],
   "source": [
    "#hide\n",
    "from matplotlib import font_manager as fm, rcParams\n",
    "prop = fm.FontProperties(fname=\"mplstyles/VeraMono.ttf\")"
   ]
  },
  {
   "cell_type": "code",
   "execution_count": 4,
   "metadata": {},
   "outputs": [],
   "source": [
    "#hide\n",
    "def load_timeseries(name, \n",
    "                    base_url='https://github.com/CSSEGISandData/COVID-19/raw/master/csse_covid_19_data/csse_covid_19_time_series'):\n",
    "    import requests\n",
    "    # Thanks to kasparthommen for the suggestion to directly download\n",
    "    url = f'{base_url}/time_series_covid19_{name}_global.csv'\n",
    "    csv = requests.get(url).text\n",
    "    df = pd.read_csv(io.StringIO(csv), \n",
    "                     index_col=['Country/Region', 'Province/State', 'Lat', 'Long'])\n",
    "    df['type'] = name.lower()\n",
    "    df.columns.name = 'date'\n",
    "\n",
    "    \n",
    "    df = (df.set_index('type', append=True)\n",
    "            .reset_index(['Lat', 'Long'], drop=True)\n",
    "            .stack()\n",
    "            .reset_index()\n",
    "            .set_index('date')\n",
    "         )\n",
    "    df.index = pd.to_datetime(df.index)\n",
    "    df.columns = ['country', 'state', 'type', 'cases']\n",
    "    \n",
    "    # Fix South Korea\n",
    "    df.loc[df.country =='Korea, South', 'country'] = 'South Korea'\n",
    "    \n",
    "    # Move HK to country level\n",
    "    df.loc[df.state =='Hong Kong', 'country'] = 'Hong Kong'\n",
    "    df.loc[df.state =='Hong Kong', 'state'] = np.nan\n",
    "    \n",
    "    # Aggregate large countries split by states\n",
    "    df = (df.groupby([\"date\", \"country\", \"type\"])\n",
    "          .sum()\n",
    "          .reset_index()\n",
    "          .sort_values([\"country\", \"date\"])\n",
    "          .set_index(\"date\"))\n",
    "    return df"
   ]
  },
  {
   "cell_type": "code",
   "execution_count": 5,
   "metadata": {},
   "outputs": [],
   "source": [
    "#hide\n",
    "\n",
    "def get_countries_with_min_cases_for_df(df_cases, by='cases', min_cases = 10):\n",
    "    MIN_CASES = min_cases\n",
    "    countries = df_cases[df_cases[by].ge(MIN_CASES)\n",
    "           ].sort_values(by=by, ascending=False)\n",
    "    countries = countries['country'].values\n",
    "    return countries\n",
    "\n",
    "def get_countries_with_min_cases(df_cases, by='cases', min_cases = 10):\n",
    "    MIN_CASES = min_cases\n",
    "    countries = df_cases[df_cases[by].ge(MIN_CASES)].sort_values(by=by, ascending=False)\n",
    "    countries = countries['country'].unique()\n",
    "    return countries\n",
    "\n",
    "def filter_cases(df_cases, by='cases', min_cases = 10, since_cases=None):\n",
    "    countries = get_countries_with_min_cases_for_df(df_cases, by, min_cases)\n",
    "    if since_cases is None:\n",
    "        SINCE_CASES_NUM = 100\n",
    "    else:\n",
    "        SINCE_CASES_NUM = since_cases\n",
    "        \n",
    "    COL_X = f'Days since case {SINCE_CASES_NUM}'\n",
    "    dff2 = df_cases[df_cases['country'].isin(countries)].copy()\n",
    "    dff2['date'] = dff2.index\n",
    "    days_since = (dff2.assign(F=dff2[by].ge(SINCE_CASES_NUM))\n",
    "                  .set_index('date')\n",
    "                  .groupby('country')['F'].transform('idxmax'))\n",
    "    dff2[COL_X] = (dff2['date'] - days_since.values).dt.days.values\n",
    "    dff2 = dff2[dff2[COL_X].ge(0)]\n",
    "    return dff2"
   ]
  },
  {
   "cell_type": "code",
   "execution_count": 6,
   "metadata": {},
   "outputs": [],
   "source": [
    "#hide\n",
    "df_deaths = load_timeseries(\"deaths\")\n",
    "df_confirmed = load_timeseries(\"confirmed\")\n",
    "\n",
    "# concatenate both timeseries\n",
    "df_cases = pd.concat((df_confirmed, df_deaths), axis=1)\n",
    "df_cases.columns = ['country', 'type', 'confirmed', 'country', 'type', 'deaths']\n",
    "df_cases = df_cases.loc[:,~df_cases.columns.duplicated()]"
   ]
  },
  {
   "cell_type": "code",
   "execution_count": 7,
   "metadata": {},
   "outputs": [],
   "source": [
    "#hide\n",
    "# create diffs\n",
    "df_cases['new_deaths'] = df_cases.deaths.diff()\n",
    "# flatten artifacts from one country to the next\n",
    "df_cases.loc[df_cases['new_deaths']<0, 'new_deaths'] = 0\n",
    "df_cases['new_confirmed'] = df_cases.confirmed.diff()\n",
    "df_cases.loc[df_cases['new_confirmed']<0, 'new_confirmed'] = 0"
   ]
  },
  {
   "cell_type": "code",
   "execution_count": 29,
   "metadata": {},
   "outputs": [],
   "source": [
    "#hide\n",
    "MIN_CASES = 1000\n",
    "SINCE_CASES = 100\n",
    "dff2 = filter_cases(df_cases, 'confirmed', MIN_CASES, SINCE_CASES)"
   ]
  },
  {
   "cell_type": "code",
   "execution_count": 30,
   "metadata": {},
   "outputs": [
    {
     "data": {
      "text/plain": [
       "array(['Afghanistan', 'Algeria', 'Argentina', 'Armenia', 'Australia',\n",
       "       'Austria', 'Azerbaijan', 'Bahrain', 'Bangladesh', 'Belarus',\n",
       "       'Belgium', 'Bolivia', 'Bosnia and Herzegovina', 'Brazil',\n",
       "       'Bulgaria', 'Cameroon', 'Canada', 'Chile', 'China', 'Colombia',\n",
       "       \"Cote d'Ivoire\", 'Croatia', 'Cuba', 'Czechia', 'Denmark',\n",
       "       'Djibouti', 'Dominican Republic', 'Ecuador', 'Egypt', 'Estonia',\n",
       "       'Finland', 'France', 'Germany', 'Ghana', 'Greece', 'Guinea',\n",
       "       'Honduras', 'Hong Kong', 'Hungary', 'Iceland', 'India',\n",
       "       'Indonesia', 'Iran', 'Iraq', 'Ireland', 'Israel', 'Italy', 'Japan',\n",
       "       'Kazakhstan', 'Kuwait', 'Lithuania', 'Luxembourg', 'Malaysia',\n",
       "       'Mexico', 'Moldova', 'Morocco', 'Netherlands', 'New Zealand',\n",
       "       'Nigeria', 'North Macedonia', 'Norway', 'Oman', 'Pakistan',\n",
       "       'Panama', 'Peru', 'Philippines', 'Poland', 'Portugal', 'Qatar',\n",
       "       'Romania', 'Russia', 'Saudi Arabia', 'Senegal', 'Serbia',\n",
       "       'Singapore', 'Slovakia', 'Slovenia', 'South Africa', 'South Korea',\n",
       "       'Spain', 'Sweden', 'Switzerland', 'Thailand', 'Tunisia', 'Turkey',\n",
       "       'US', 'Ukraine', 'United Arab Emirates', 'United Kingdom',\n",
       "       'Uzbekistan'], dtype=object)"
      ]
     },
     "execution_count": 30,
     "metadata": {},
     "output_type": "execute_result"
    }
   ],
   "source": [
    "#hide\n",
    "dff2.country.unique()"
   ]
  },
  {
   "cell_type": "code",
   "execution_count": 38,
   "metadata": {},
   "outputs": [
    {
     "data": {
      "text/plain": [
       "array(['US', 'Italy', 'United Kingdom', 'Spain', 'France', 'Belgium',\n",
       "       'Brazil', 'Germany', 'Iran', 'Netherlands', 'China', 'Canada',\n",
       "       'Turkey', 'Sweden', 'Mexico', 'Switzerland', 'Ecuador', 'India',\n",
       "       'Ireland', 'Peru', 'Russia', 'Portugal', 'Indonesia', 'Romania',\n",
       "       'Poland', 'Philippines', 'Austria', 'Japan', 'Denmark', 'Algeria',\n",
       "       'Pakistan', 'Egypt', 'Colombia', 'Hungary', 'Dominican Republic',\n",
       "       'Ukraine', 'Chile', 'South Korea', 'Czechia', 'Argentina',\n",
       "       'Israel', 'Finland', 'Norway', 'Panama', 'Serbia', 'Saudi Arabia',\n",
       "       'Bangladesh', 'Morocco', 'Greece', 'South Africa',\n",
       "       'United Arab Emirates', 'Moldova', 'Malaysia'], dtype=object)"
      ]
     },
     "execution_count": 38,
     "metadata": {},
     "output_type": "execute_result"
    }
   ],
   "source": [
    "#hide\n",
    "MIN_DEATHS = 100\n",
    "get_countries_with_min_cases(dff2, 'deaths', MIN_DEATHS)"
   ]
  },
  {
   "cell_type": "code",
   "execution_count": 39,
   "metadata": {},
   "outputs": [],
   "source": [
    "#hide\n",
    "ignore = [\"China\"]\n",
    "\n",
    "countries = get_countries_with_min_cases(dff2, 'deaths', MIN_DEATHS)[:]\n",
    "countries = [c for c in countries if c not in ignore]"
   ]
  },
  {
   "cell_type": "code",
   "execution_count": null,
   "metadata": {},
   "outputs": [],
   "source": [
    "#hide_input\n",
    "import math\n",
    "\n",
    "ROLLING_MEAN_DAYS = 10\n",
    "\n",
    "ncols = 5\n",
    "nrows = math.ceil(len(countries)/ncols)\n",
    "fig, ax = plt.subplots(nrows, ncols, figsize=(ncols*1.5, nrows*1.5), dpi=300)\n",
    "plt.tight_layout(h_pad=0, w_pad=-10)\n",
    "\n",
    "for i, str_country in enumerate(countries):\n",
    "    df_cases_country = dff2[dff2['country']==str_country]      \n",
    "    \n",
    "    r = int(i / ncols)\n",
    "    c = i % ncols\n",
    "    axs = ax[r, c]\n",
    "    \n",
    "    \n",
    "    #axs.bar(df_cases_country.index, df_cases_country.new_confirmed, lw=4, label=f\"Confirmed cases\", color='k')\n",
    "    rolling_mean = df_cases_country.new_confirmed.rolling(ROLLING_MEAN_DAYS).mean()\n",
    "    \n",
    "    color_white = \"#AAAAAA\"\n",
    "    color = color_white\n",
    "    last_cases = rolling_mean.iloc[-1]\n",
    "    last_ratio = last_cases/rolling_mean.max()\n",
    "    #print(f\"{str_country}: {100*last_ratio:.2f} % (max: {df_cases_country.new_confirmed.max()}, last: {last_cases})\")\n",
    "    \n",
    "    if last_ratio < 0.25:\n",
    "        color='springgreen'\n",
    "    elif last_ratio > 0.75:\n",
    "        color='red'\n",
    "            \n",
    "    axs.set_title(f\"{str_country}\", size=6, pad=3, color=color_white, fontproperties=prop)\n",
    "    axs.plot(df_cases_country.index, rolling_mean, lw=2, label=f\"Confirmed cases\", color=color)\n",
    "    \n",
    "    axs.xaxis.set_major_locator(mdates.MonthLocator(interval=1))   #to get a tick every x months\n",
    "    axs.xaxis.set_major_formatter(mdates.DateFormatter('%m/%y')) \n",
    "\n",
    "    \n",
    "# turn off axis\n",
    "for r in range(nrows):\n",
    "    for c in range(ncols):\n",
    "        ax[r, c].axis('off')\n",
    "\n",
    "import matplotlib\n",
    "bob = matplotlib.transforms.Bbox([[0.5, ncols-3.2], [4.7, ncols-0.16]])\n",
    "#plt.savefig(\"../images/icon_covid_dashboard.png\", bbox_inches=bob)        \n",
    "# #plt.tight_layout(h_pad=0, w_pad=-1)\n",
    "\n",
    "plt.show();"
   ]
  },
  {
   "cell_type": "code",
   "execution_count": null,
   "metadata": {},
   "outputs": [],
   "source": []
  }
 ],
 "metadata": {
  "kernelspec": {
   "display_name": "Python 3",
   "language": "python",
   "name": "python3"
  },
  "language_info": {
   "codemirror_mode": {
    "name": "ipython",
    "version": 3
   },
   "file_extension": ".py",
   "mimetype": "text/x-python",
   "name": "python",
   "nbconvert_exporter": "python",
   "pygments_lexer": "ipython3",
   "version": "3.7.3"
  }
 },
 "nbformat": 4,
 "nbformat_minor": 4
}
