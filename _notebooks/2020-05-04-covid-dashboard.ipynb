{
 "cells": [
  {
   "cell_type": "markdown",
   "metadata": {},
   "source": [
    "# \"COVID-19 - Dashboard overview\"\n",
    "> Or maybe a poster generator for the macabre data junkie, updated daily\n",
    "\n",
    "- sticky_rank: 2\n",
    "- comments: true\n",
    "- author: Caglar Cakan\n",
    "- categories: [covid19]\n",
    "- permalink: /covid-dashboard/\n",
    "- image: images/icon_covid_dashboard.png\n",
    "- license: Creative Commons"
   ]
  },
  {
   "cell_type": "code",
   "execution_count": 1,
   "metadata": {},
   "outputs": [
    {
     "name": "stdout",
     "output_type": "stream",
     "text": [
      "This page was last built on 06.05.20 14:34:34\n"
     ]
    }
   ],
   "source": [
    "#hide_input\n",
    "import datetime\n",
    "print(\"This page was last built on\", datetime.datetime.now().strftime(\"%d.%m.%y %H:%M:%S\"))"
   ]
  },
  {
   "cell_type": "markdown",
   "metadata": {},
   "source": [
    "**Axis:** The data is shown on a **normalized y-axis** which means that case numbers between countries cannot be compared. On the x-axis, the data is shown from the day of the 100th positive case until today.\n",
    "\n",
    "**Colors:** If the last reported cases are < 25% of the maximum, the data is shown in green. Else, if the last cases are > 75% of the maximum, the data is shown in red. Else, grey.\n",
    "\n",
    "**Preprocessing:**\n",
    "The number of new cases per day is averaged using a 10-day rolling window. Countries are included if they have at least 1000 cases and at least 100 deaths. Countries are sorted by total number of cases. \n",
    "\n",
    "**Data:** The data is pulled from the COVID-19 Data Repository by Johns Hopkins CSSE\n",
    "\n",
    "**Tools:** Python and Matplotlib, updated daily\n",
    "\n",
    "**Versions:**\n",
    "* [Color neural](https://caglorithm.github.io/notebooks/images/images/covid-dashboard/neutral.png) version for folks who prefer other colors than red and green\n",
    "* [Alphabetically sorted](https://caglorithm.github.io/notebooks/images/images/covid-dashboard/sorted.png)\n",
    "* [Larger version](https://caglorithm.github.io/notebooks/images/images/covid-dashboard/large.png) with less filtering and many more countries\n",
    "* [Large color neutral](https://caglorithm.github.io/notebooks/images/images/covid-dashboard/large-neutral.png)"
   ]
  },
  {
   "cell_type": "code",
   "execution_count": 2,
   "metadata": {},
   "outputs": [],
   "source": [
    "#hide\n",
    "import numpy as np\n",
    "\n",
    "import datetime\n",
    "\n",
    "import matplotlib.pyplot as plt\n",
    "import pandas as pd\n",
    "import seaborn as sns\n",
    "import matplotlib.dates as mdates\n",
    "\n",
    "import requests\n",
    "import io\n",
    "import math\n",
    "\n",
    "from countryinfo import CountryInfo"
   ]
  },
  {
   "cell_type": "code",
   "execution_count": 3,
   "metadata": {},
   "outputs": [],
   "source": [
    "#hide\n",
    "import matplotlib\n",
    "matplotlib.rc_file('mplstyles/dark.mplstyle')"
   ]
  },
  {
   "cell_type": "code",
   "execution_count": 4,
   "metadata": {},
   "outputs": [],
   "source": [
    "#hide\n",
    "import lib.covid_data as cd"
   ]
  },
  {
   "cell_type": "code",
   "execution_count": 5,
   "metadata": {},
   "outputs": [],
   "source": [
    "#hide\n",
    "def make_plot(dff, countries, colors=None, dpi=300, ncols=5, savename=None, show=True, hpad=0):\n",
    "    ROLLING_MEAN_DAYS = 10\n",
    "    nrows = math.ceil(len(countries)/ncols)\n",
    "    fig, ax = plt.subplots(nrows, ncols, figsize=(ncols*1.5, nrows*1.5), dpi=dpi)\n",
    "    plt.tight_layout(h_pad=hpad, w_pad=-2, )\n",
    "\n",
    "    for i, str_country in enumerate(countries):\n",
    "        df_cases_country = dff2[dff2['country']==str_country]      \n",
    "\n",
    "        r = int(i / ncols)\n",
    "        c = i % ncols\n",
    "        axs = ax[r, c]\n",
    "\n",
    "\n",
    "        #axs.bar(df_cases_country.index, df_cases_country.new_confirmed, lw=4, label=f\"Confirmed cases\", color='k')\n",
    "        rolling_mean = df_cases_country.new_confirmed.rolling(ROLLING_MEAN_DAYS).mean()\n",
    "\n",
    "        color_white = \"#AAAAAA\"\n",
    "        color = color_white\n",
    "        last_cases = rolling_mean.iloc[-1]\n",
    "        last_ratio = last_cases/rolling_mean.max()\n",
    "        #print(f\"{str_country}: {100*last_ratio:.2f} % (max: {df_cases_country.new_confirmed.max()}, last: {last_cases})\")\n",
    "\n",
    "        if last_ratio < 0.25:\n",
    "            color='springgreen'\n",
    "            if colors=='muted':\n",
    "                color='C1'            \n",
    "        elif last_ratio > 0.75:\n",
    "            color='red'\n",
    "            if colors=='muted':\n",
    "                color='C4'            \n",
    "\n",
    "        axs.set_title(f\"{str_country}\", size=12, pad=3, color=color_white)\n",
    "        axs.plot(df_cases_country.index, rolling_mean, lw=2, label=f\"Confirmed cases\", color=color)\n",
    "\n",
    "        axs.xaxis.set_major_locator(mdates.MonthLocator(interval=1))   #to get a tick every x months\n",
    "        axs.xaxis.set_major_formatter(mdates.DateFormatter('%m/%y')) \n",
    "\n",
    "\n",
    "    # turn off axis\n",
    "    for r in range(nrows):\n",
    "        for c in range(ncols):\n",
    "            ax[r, c].axis('off')\n",
    "\n",
    "    import matplotlib\n",
    "    bob = matplotlib.transforms.Bbox([[0.5, ncols-3.2], [4.7, ncols-0.16]])\n",
    "    \n",
    "    if savename:\n",
    "        plt.savefig(f\"../images/covid-dashboard/{savename}.png\", bbox_inches=\"tight\")\n",
    "    if show:\n",
    "        plt.show();\n",
    "    else:\n",
    "        plt.close(fig)"
   ]
  },
  {
   "cell_type": "markdown",
   "metadata": {},
   "source": [
    "# Countries sorted by total cases"
   ]
  },
  {
   "cell_type": "code",
   "execution_count": null,
   "metadata": {},
   "outputs": [],
   "source": [
    "#hide_input\n",
    "dff2 = cd.get_df(MIN_CASES = 1000, SINCE_CASES = 100)\n",
    "countries = cd.get_countries_with_min_cases(dff2, 'deaths', min_cases= 100)\n",
    "make_plot(dff2, countries, savename=\"dashboard\")"
   ]
  },
  {
   "cell_type": "markdown",
   "metadata": {},
   "source": [
    "# Large overview"
   ]
  },
  {
   "cell_type": "code",
   "execution_count": null,
   "metadata": {},
   "outputs": [],
   "source": [
    "#hide_input\n",
    "dff2 = cd.get_df(MIN_CASES = 500, SINCE_CASES = 100)\n",
    "countries = cd.get_countries_with_min_cases(dff2, 'deaths', min_cases= 10)\n",
    "countries.sort()\n",
    "make_plot(dff2, countries, ncols=10, savename='large', show=True, hpad=2)"
   ]
  },
  {
   "cell_type": "code",
   "execution_count": null,
   "metadata": {},
   "outputs": [],
   "source": [
    "#hide\n",
    "#code for generating alternative versions"
   ]
  },
  {
   "cell_type": "code",
   "execution_count": null,
   "metadata": {},
   "outputs": [],
   "source": [
    "#hide\n",
    "dff2 = cd.get_df(MIN_CASES = 1000, SINCE_CASES = 100)\n",
    "countries = cd.get_countries_with_min_cases(dff2, 'deaths', min_cases= 100)\n",
    "countries.sort()\n",
    "make_plot(dff2, countries, savename='sorted', show=False)"
   ]
  },
  {
   "cell_type": "code",
   "execution_count": null,
   "metadata": {},
   "outputs": [],
   "source": [
    "#hide\n",
    "dff2 = cd.get_df(MIN_CASES = 1000, SINCE_CASES = 100)\n",
    "countries = cd.get_countries_with_min_cases(dff2, 'deaths', min_cases= 100)\n",
    "make_plot(dff2, countries, savename='neutral', show=False, colors='muted')"
   ]
  },
  {
   "cell_type": "code",
   "execution_count": null,
   "metadata": {},
   "outputs": [],
   "source": [
    "#hide_input\n",
    "dff2 = cd.get_df(MIN_CASES = 500, SINCE_CASES = 100)\n",
    "countries = cd.get_countries_with_min_cases(dff2, 'deaths', min_cases= 10)\n",
    "countries.sort()\n",
    "make_plot(dff2, countries, ncols=10, savename='large-neutral', show=False, colors='muted', hpad=2)"
   ]
  }
 ],
 "metadata": {
  "kernelspec": {
   "display_name": "Python 3",
   "language": "python",
   "name": "python3"
  },
  "language_info": {
   "codemirror_mode": {
    "name": "ipython",
    "version": 3
   },
   "file_extension": ".py",
   "mimetype": "text/x-python",
   "name": "python",
   "nbconvert_exporter": "python",
   "pygments_lexer": "ipython3",
   "version": "3.7.3"
  }
 },
 "nbformat": 4,
 "nbformat_minor": 4
}
