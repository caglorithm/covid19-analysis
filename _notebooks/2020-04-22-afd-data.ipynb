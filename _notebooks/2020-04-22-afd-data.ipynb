{
 "cells": [
  {
   "cell_type": "markdown",
   "metadata": {},
   "source": [
    "# Tracking AfD polling surveys\n",
    "> Polling surveys of the AfD with data aggregated daily from different opinion research centers\n",
    "\n",
    "- comments: true\n",
    "- author: Caglar Cakan\n",
    "- categories: [data]\n",
    "- permalink: /afd-data/\n",
    "- image: images/icon_afd.png\n",
    "- license: Creative Commons"
   ]
  },
  {
   "cell_type": "markdown",
   "metadata": {},
   "source": [
    "The data for this script is pulled from https://www.wahlrecht.de/umfragen. Below the code, you can find the output figure."
   ]
  },
  {
   "cell_type": "code",
   "execution_count": null,
   "metadata": {},
   "outputs": [],
   "source": [
    "import pandas as pd\n",
    "import matplotlib.pyplot as plt\n",
    "import datetime\n",
    "import matplotlib.dates as mdates\n",
    "\n",
    "table_urls = [\"https://www.wahlrecht.de/umfragen/allensbach.htm\",\n",
    "              \"https://www.wahlrecht.de/umfragen/emnid.htm\",\n",
    "              \"https://www.wahlrecht.de/umfragen/forsa.htm\",\n",
    "              \"https://www.wahlrecht.de/umfragen/politbarometer.htm\",\n",
    "              \"https://www.wahlrecht.de/umfragen/gms.htm\",\n",
    "              \"https://www.wahlrecht.de/umfragen/dimap.htm\",\n",
    "              \"https://www.wahlrecht.de/umfragen/insa.htm\",\n",
    "              \"https://www.wahlrecht.de/umfragen/yougov.htm\"]\n",
    "names = [\"Allensbach\", \"Kantar\", \"Forsa\" \"Forsch’gr. Wahlen\", \"GMS\", \"Infratest\", \"dimap\", \"INSA\", \"Yougov\"]\n",
    "\n",
    "plt.figure(figsize=(5, 2), dpi=300)\n",
    "for i, table_url in enumerate(table_urls):\n",
    "    # magic function to get tables from a website, <3\n",
    "    df = pd.read_html(table_url)[1]\n",
    "    # cut last 4 lines which are trash\n",
    "    df = df.iloc[:-4]\n",
    "    # clean data from INSA, thanks INSA!\n",
    "    df = df[~df.AfD.str.contains(\"INSA\")]\n",
    "    df = df[~df.AfD.str.contains(\"–\")]\n",
    "    # convert to datetime\n",
    "    df[\"Datetime\"] = pd.to_datetime(df[\"Datum\"], format=\"%d.%m.%Y\") if \"Datum\" in df.columns else pd.to_datetime(df[\"Unnamed: 0\"], format=\"%d.%m.%Y\")\n",
    "    # convert percentage strings from @=\"12,5%\" to floats\n",
    "    df[\"AfD_percent\"] = df[\"AfD\"].str.replace(',', '.').str.rstrip('%').astype('float')\n",
    "    plt.plot(df[\"Datetime\"], df[\"AfD_percent\"], label=names[i])\n",
    "    \n",
    "limit_weeks = 12 * 4\n",
    "# add line that marks results from last elections\n",
    "plt.hlines(12.4, datetime.datetime.now() - datetime.timedelta(weeks=limit_weeks), datetime.datetime.now(), color='k', ls='--', label='Bundestagswahl 2017')\n",
    "\n",
    "# adjust plot settings\n",
    "plt.title(\"Der Untergang der AfD\")\n",
    "plt.xlim([datetime.datetime.now() - datetime.timedelta(weeks=limit_weeks), datetime.datetime.now()])\n",
    "myFmt = mdates.DateFormatter(\"%d.%m.%Y\")\n",
    "plt.gca().xaxis.set_major_formatter(myFmt)    \n",
    "plt.grid()\n",
    "plt.legend(fontsize=6, bbox_to_anchor=(1.0, 1.0))\n",
    "plt.ylabel(\"Stimmanteil\")\n",
    "plt.setp(plt.gca().get_xticklabels()[::2], visible=False)\n",
    "plt.xticks(rotation=45);"
   ]
  }
 ],
 "metadata": {
  "kernelspec": {
   "display_name": "Python 3",
   "language": "python",
   "name": "python3"
  },
  "language_info": {
   "codemirror_mode": {
    "name": "ipython",
    "version": 3
   },
   "file_extension": ".py",
   "mimetype": "text/x-python",
   "name": "python",
   "nbconvert_exporter": "python",
   "pygments_lexer": "ipython3",
   "version": "3.7.3"
  }
 },
 "nbformat": 4,
 "nbformat_minor": 4
}
